{
  "nbformat": 4,
  "nbformat_minor": 0,
  "metadata": {
    "colab": {
      "provenance": [],
      "authorship_tag": "ABX9TyPDeUchAfMwduPfocLZRWsa",
      "include_colab_link": true
    },
    "kernelspec": {
      "name": "python3",
      "display_name": "Python 3"
    },
    "language_info": {
      "name": "python"
    }
  },
  "cells": [
    {
      "cell_type": "markdown",
      "metadata": {
        "id": "view-in-github",
        "colab_type": "text"
      },
      "source": [
        "<a href=\"https://colab.research.google.com/github/2205a21050/python-/blob/main/2205a21050.ipynb\" target=\"_parent\"><img src=\"https://colab.research.google.com/assets/colab-badge.svg\" alt=\"Open In Colab\"/></a>"
      ]
    },
    {
      "cell_type": "code",
      "execution_count": null,
      "metadata": {
        "colab": {
          "base_uri": "https://localhost:8080/"
        },
        "id": "7ayHkTFPqsW-",
        "outputId": "8ae5dc38-ed05-49a2-a32c-0e3ff28d65ad"
      },
      "outputs": [
        {
          "output_type": "stream",
          "name": "stdout",
          "text": [
            "enter the transformer ratting in voltamperes: 5000\n",
            "enter the primary voltage in volts: 220\n",
            "enter the secondary voltage in volts: 440\n",
            "enter the open ckt test voltage in volts: 220\n",
            "enter the open ckt test current in amperes: 2\n",
            "enter the open ckt test power in watts: 250\n",
            "enter the short ckt test voltage in volts: 75\n",
            "enter the short ckt test current in amperes: 10\n",
            "enter the short ckt test power in watts: 500\n",
            "enter the power factor of the transformer: 1\n",
            "enter the loading of a transformer: 1\n",
            "ro= 193.6\n",
            "xo= 133.67309875319802\n",
            "rhv= 5.0\n",
            "xhv= 15.0\n",
            "copperlosses= 500.0\n",
            "eficiency= 86.95652173913044\n"
          ]
        }
      ],
      "source": [
        "import transformer\n",
        "r=float(input('enter the transformer ratting in voltamperes: '))\n",
        "pv=float(input('enter the primary voltage in volts: '))\n",
        "sv=float(input('enter the secondary voltage in volts: '))\n",
        "vo=float(input('enter the open ckt test voltage in volts: '))\n",
        "io=float(input('enter the open ckt test current in amperes: '))\n",
        "wo=float(input('enter the open ckt test power in watts: '))\n",
        "vsc=float(input('enter the short ckt test voltage in volts: '))\n",
        "isc=float(input('enter the short ckt test current in amperes: '))\n",
        "wsc=float(input('enter the short ckt test power in watts: '))\n",
        "pf=float(input('enter the power factor of the transformer: '))\n",
        "x=float(input('enter the loading of a transformer: '))\n",
        "[ro,xo]=transformer.oc(vo,io,wo)\n",
        "[rhv,xhv]=transformer.sc(vsc,isc,wsc)\n",
        "[efficiency,xcu]=transformer.eff(r,wo,wsc,x,pf)\n",
        "print(\"ro=\",ro)\n",
        "print(\"xo=\",xo)\n",
        "print(\"rhv=\",rhv)\n",
        "print(\"xhv=\",xhv)\n",
        "print(\"copperlosses=\",xcu)\n",
        "print(\"eficiency=\",efficiency)"
      ]
    },
    {
      "cell_type": "code",
      "source": [
        "import datetime\n",
        "now=datetime.datetime.now()\n",
        "print(\"current date and time\",now)\n",
        "formatted_now=now.strftime(\"%Y-%m-%d %H:%M:%S\")\n",
        "count=0\n",
        "print(\"formatted date and time\",formatted_now)\n",
        "pu=int(input(\"enter the previos month units=\"))\n",
        "cu=int(input(\"enter the current month units=\"))\n",
        "tc=int(input(\"enter the type of customer 0;res 1;com 2;adv\"))\n",
        "u=cu-pu\n",
        "ed=0.06*u\n",
        "if(tc==0):\n",
        "  if(u<100):\n",
        "    if(u<50):\n",
        "      ec=1.95*u\n",
        "      fc=10\n",
        "      cc=40\n",
        "    else:\n",
        "      ec=3.10*u\n",
        "      fc=10\n",
        "      cc=70\n",
        "  else:\n",
        "    if(u>100 and u<=200):\n",
        "      ec=100*3.4+(u-100)*4.8\n",
        "      fc=10\n",
        "      cc=90\n",
        "    else:\n",
        "        print(\"this application is not supppoted\")\n",
        "        count=count+1\n",
        "if(tc==1):\n",
        "  if(u<50):\n",
        "    ec=7*u\n",
        "    fc=10\n",
        "    cc=50\n",
        "  else:\n",
        "    print(\"this application is not supppoted\")\n",
        "    count=count+1\n",
        "\n",
        "if(tc==2):\n",
        "  ec=13*u\n",
        "  fc=70\n",
        "  cc=160\n",
        "\n",
        "if(count==0):\n",
        "  bill_amount=ec+fc+cc+ed\n",
        "  print(\"----------------------------\")\n",
        "  print(\"TGNPDCL TELANGANA NORTHEN POWER DISTRIBUTION COMPANY LIMITED \")\n",
        "  print(\"formatted date and time:\",formatted_now)\n",
        "  print(\"----------------------------\")\n",
        "  print(\"previous units:\",pu)\n",
        "  print(\"current units:\",cu)\n",
        "  print(\"energy chargers=\",ec)\n",
        "  print(\"fixed chargers=\",fc)\n",
        "  print(\"customer chargers=\",cc)\n",
        "  print(\"electricity duty=\",ed)\n",
        "  print(\"bill_amount=\",bill_amount)\n"
      ],
      "metadata": {
        "colab": {
          "base_uri": "https://localhost:8080/"
        },
        "id": "cFwEAJ6yQKoS",
        "outputId": "91306821-6b81-4940-eabc-6a5501ac600d"
      },
      "execution_count": 4,
      "outputs": [
        {
          "output_type": "stream",
          "name": "stdout",
          "text": [
            "current date and time 2024-09-09 10:47:43.120574\n",
            "formatted date and time 2024-09-09 10:47:43\n",
            "enter the previos month units=7144\n",
            "enter the current month units=7183\n",
            "enter the type of customer 0;res 1;com 2;adv0\n",
            "----------------------------\n",
            "TGNPDCL TELANGANA NORTHEN POWER DISTRIBUTION COMPANY LIMITED \n",
            "formatted date and time: 2024-09-09 10:47:43\n",
            "----------------------------\n",
            "previous units: 7144\n",
            "current units: 7183\n",
            "energy chargers= 76.05\n",
            "fixed chargers= 10\n",
            "customer chargers= 40\n",
            "electricity duty= 2.34\n",
            "bill_amount= 128.39\n"
          ]
        }
      ]
    }
  ]
}